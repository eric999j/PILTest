{
  "nbformat": 4,
  "nbformat_minor": 0,
  "metadata": {
    "colab": {
      "name": "TestGoogleTranslate2.ipynb",
      "provenance": [],
      "include_colab_link": true
    },
    "kernelspec": {
      "name": "python3",
      "display_name": "Python 3"
    },
    "accelerator": "TPU"
  },
  "cells": [
    {
      "cell_type": "markdown",
      "metadata": {
        "id": "view-in-github",
        "colab_type": "text"
      },
      "source": [
        "<a href=\"https://colab.research.google.com/github/eric999j/PILTest/blob/master/TestGoogleTranslate2.ipynb\" target=\"_parent\"><img src=\"https://colab.research.google.com/assets/colab-badge.svg\" alt=\"Open In Colab\"/></a>"
      ]
    },
    {
      "cell_type": "code",
      "metadata": {
        "id": "xFdV0pB-FEpy",
        "colab_type": "code",
        "outputId": "73752311-f60a-45ee-b462-23eb76e381a8",
        "colab": {
          "base_uri": "https://localhost:8080/",
          "height": 479
        }
      },
      "source": [
        "!pip install SpeechRecognition\n",
        "!pip install gTTS # 文字存語音\n",
        "!pip install pygame\n",
        "!pip install googletrans # 直接檔案轉到這邊就可以了\n",
        "!sudo apt-get install python3-pyaudio #嘗試用麥克風將聲音直接轉成文字輸出，則需要安裝 PyAudio "
      ],
      "execution_count": 1,
      "outputs": [
        {
          "output_type": "stream",
          "text": [
            "Requirement already satisfied: SpeechRecognition in /usr/local/lib/python3.6/dist-packages (3.8.1)\n",
            "Requirement already satisfied: gTTS in /usr/local/lib/python3.6/dist-packages (2.1.0)\n",
            "Requirement already satisfied: six in /usr/local/lib/python3.6/dist-packages (from gTTS) (1.12.0)\n",
            "Requirement already satisfied: click in /usr/local/lib/python3.6/dist-packages (from gTTS) (7.0)\n",
            "Requirement already satisfied: requests in /usr/local/lib/python3.6/dist-packages (from gTTS) (2.21.0)\n",
            "Requirement already satisfied: gtts-token>=1.1.3 in /usr/local/lib/python3.6/dist-packages (from gTTS) (1.1.3)\n",
            "Requirement already satisfied: beautifulsoup4 in /usr/local/lib/python3.6/dist-packages (from gTTS) (4.6.3)\n",
            "Requirement already satisfied: certifi>=2017.4.17 in /usr/local/lib/python3.6/dist-packages (from requests->gTTS) (2019.11.28)\n",
            "Requirement already satisfied: idna<2.9,>=2.5 in /usr/local/lib/python3.6/dist-packages (from requests->gTTS) (2.8)\n",
            "Requirement already satisfied: chardet<3.1.0,>=3.0.2 in /usr/local/lib/python3.6/dist-packages (from requests->gTTS) (3.0.4)\n",
            "Requirement already satisfied: urllib3<1.25,>=1.21.1 in /usr/local/lib/python3.6/dist-packages (from requests->gTTS) (1.24.3)\n",
            "Requirement already satisfied: pygame in /usr/local/lib/python3.6/dist-packages (1.9.6)\n",
            "Requirement already satisfied: googletrans in /usr/local/lib/python3.6/dist-packages (2.4.0)\n",
            "Requirement already satisfied: requests in /usr/local/lib/python3.6/dist-packages (from googletrans) (2.21.0)\n",
            "Requirement already satisfied: chardet<3.1.0,>=3.0.2 in /usr/local/lib/python3.6/dist-packages (from requests->googletrans) (3.0.4)\n",
            "Requirement already satisfied: urllib3<1.25,>=1.21.1 in /usr/local/lib/python3.6/dist-packages (from requests->googletrans) (1.24.3)\n",
            "Requirement already satisfied: idna<2.9,>=2.5 in /usr/local/lib/python3.6/dist-packages (from requests->googletrans) (2.8)\n",
            "Requirement already satisfied: certifi>=2017.4.17 in /usr/local/lib/python3.6/dist-packages (from requests->googletrans) (2019.11.28)\n",
            "Reading package lists... Done\n",
            "Building dependency tree       \n",
            "Reading state information... Done\n",
            "python3-pyaudio is already the newest version (0.2.11-1build2).\n",
            "The following package was automatically installed and is no longer required:\n",
            "  libnvidia-common-430\n",
            "Use 'sudo apt autoremove' to remove it.\n",
            "0 upgraded, 0 newly installed, 0 to remove and 7 not upgraded.\n"
          ],
          "name": "stdout"
        }
      ]
    },
    {
      "cell_type": "code",
      "metadata": {
        "id": "LNycg2UrZM5r",
        "colab_type": "code",
        "outputId": "585240b9-e43c-4182-8ed0-a1475a63fa71",
        "colab": {
          "base_uri": "https://localhost:8080/",
          "height": 54
        }
      },
      "source": [
        "from google.colab import drive  \n",
        "drive.mount('/content/gdrive') "
      ],
      "execution_count": 2,
      "outputs": [
        {
          "output_type": "stream",
          "text": [
            "Drive already mounted at /content/gdrive; to attempt to forcibly remount, call drive.mount(\"/content/gdrive\", force_remount=True).\n"
          ],
          "name": "stdout"
        }
      ]
    },
    {
      "cell_type": "code",
      "metadata": {
        "id": "_K3aS7F1ZfhU",
        "colab_type": "code",
        "outputId": "b41faca5-be84-472f-9c43-bd6ff411bcae",
        "colab": {
          "base_uri": "https://localhost:8080/",
          "height": 187
        }
      },
      "source": [
        "%cd /content/gdrive/'My Drive'/'Colab Notebooks'/\n",
        "%ls"
      ],
      "execution_count": 3,
      "outputs": [
        {
          "output_type": "stream",
          "text": [
            "/content/gdrive/My Drive/Colab Notebooks\n",
            " 0安裝Conda.ipynb                           Geth.ipynb\n",
            "'1How to use gpu and colab.ipynb'           hello4.wav\n",
            "'2TF2.0 Keras beginners.ipynb'              panda.wav\n",
            "'3advanced tf2.ipynb'                       \u001b[0m\u001b[01;34mspeech-emotion-recognition\u001b[0m/\n",
            "'Copy of ResNet.ipynb'                     'TestGoogleTranslate2 (1).ipynb'\n",
            " DataFlair-DetectingFakeNews.ipynb          TestGoogleTranslate2.ipynb\n",
            " DataFlair-ObjectDetection.ipynb            TestGoogleTranslate.ipynb\n",
            " DataFlair-SpeechEmotionRecognition.ipynb   Tom-Chang-Deep-Lyrics.ipynb\n",
            "\u001b[01;34m'Drowsiness detection'\u001b[0m/                     \u001b[01;34mTom-Chang-Deep-Lyrics-master\u001b[0m/\n"
          ],
          "name": "stdout"
        }
      ]
    },
    {
      "cell_type": "code",
      "metadata": {
        "id": "lrdZHXtUdZkx",
        "colab_type": "code",
        "colab": {}
      },
      "source": [
        "from gtts import gTTS\n",
        "tts = gTTS(text='大大安安幾歲您好', lang='zh-tw')\n",
        "tts.save(\"hello.mp3\")"
      ],
      "execution_count": 0,
      "outputs": []
    },
    {
      "cell_type": "code",
      "metadata": {
        "id": "nVM9oQEfd-6H",
        "colab_type": "code",
        "colab": {
          "base_uri": "https://localhost:8080/",
          "height": 170
        },
        "outputId": "4e81f0dc-bbaa-4d25-fbcb-e3192429db37"
      },
      "source": [
        "!ls"
      ],
      "execution_count": 9,
      "outputs": [
        {
          "output_type": "stream",
          "text": [
            " 0安裝Conda.ipynb\t\t\t    Geth.ipynb\n",
            "'1How to use gpu and colab.ipynb'\t    hello.mp3\n",
            "'2TF2.0 Keras beginners.ipynb'\t\t    speech-emotion-recognition\n",
            "'3advanced tf2.ipynb'\t\t\t   'TestGoogleTranslate2 (1).ipynb'\n",
            "'Copy of ResNet.ipynb'\t\t\t    TestGoogleTranslate2.ipynb\n",
            " DataFlair-DetectingFakeNews.ipynb\t    TestGoogleTranslate.ipynb\n",
            " DataFlair-ObjectDetection.ipynb\t    Tom-Chang-Deep-Lyrics.ipynb\n",
            " DataFlair-SpeechEmotionRecognition.ipynb   Tom-Chang-Deep-Lyrics-master\n",
            "'Drowsiness detection'\n"
          ],
          "name": "stdout"
        }
      ]
    }
  ]
}