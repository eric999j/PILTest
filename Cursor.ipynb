{
  "nbformat": 4,
  "nbformat_minor": 0,
  "metadata": {
    "colab": {
      "provenance": [],
      "authorship_tag": "ABX9TyM0S1KehvxKBLFCc3Jyrn8n",
      "include_colab_link": true
    },
    "kernelspec": {
      "name": "python3",
      "display_name": "Python 3"
    },
    "language_info": {
      "name": "python"
    }
  },
  "cells": [
    {
      "cell_type": "markdown",
      "metadata": {
        "id": "view-in-github",
        "colab_type": "text"
      },
      "source": [
        "<a href=\"https://colab.research.google.com/github/eric999j/PILTest/blob/master/Cursor.ipynb\" target=\"_parent\"><img src=\"https://colab.research.google.com/assets/colab-badge.svg\" alt=\"Open In Colab\"/></a>"
      ]
    },
    {
      "cell_type": "code",
      "execution_count": null,
      "metadata": {
        "colab": {
          "base_uri": "https://localhost:8080/"
        },
        "id": "9uK4VV7MFQss",
        "outputId": "ddf98050-3592-4a85-af68-78e2de391e24"
      },
      "outputs": [
        {
          "output_type": "stream",
          "name": "stderr",
          "text": [
            "\n",
            "PYDEV DEBUGGER WARNING:\n",
            "sys.settrace() should not be used when the debugger is being used.\n",
            "This may cause the debugger to stop working correctly.\n",
            "If this is needed, please check: \n",
            "http://pydev.blogspot.com/2007/06/why-cant-pydev-debugger-work-with.html\n",
            "to see how to restore the debug tracing back correctly.\n",
            "Call Location:\n",
            "  File \"/usr/lib/python3.10/doctest.py\", line 1501, in run\n",
            "    sys.settrace(save_trace)\n",
            "\n"
          ]
        },
        {
          "output_type": "stream",
          "name": "stdout",
          "text": [
            "Please enter a password: StrongPass1!\n",
            "Please enter the last updated date (YYYY-MM-DD): 2024-09-18\n",
            "This is a strong password.\n"
          ]
        }
      ],
      "source": [
        "from datetime import datetime, timedelta\n",
        "\n",
        "# 常見密碼列表\n",
        "common_passwords = [\"password\", \"123456\", \"123456789\", \"12345678\", \"12345\", \"1234567\", \"1234567890\", \"qwerty\", \"abc123\"]\n",
        "\n",
        "def is_strong_password(password, last_updated):\n",
        "    \"\"\"\n",
        "    Check if the given password is strong based on several criteria.\n",
        "\n",
        "    A strong password must:\n",
        "    - Be at least 12 characters long\n",
        "    - Contain at least one uppercase letter\n",
        "    - Contain at least one lowercase letter\n",
        "    - Contain at least one digit\n",
        "    - Contain at least one special character\n",
        "    - Not be a common password\n",
        "    - Not contain too many repeated characters\n",
        "    - Not contain consecutive characters\n",
        "    - Be updated every 90 days\n",
        "\n",
        "    Args:\n",
        "    password (str): The password to check.\n",
        "    last_updated (datetime): The date when the password was last updated.\n",
        "\n",
        "    Returns:\n",
        "    str: A message indicating whether the password is strong or what criteria it fails.\n",
        "\n",
        "    Examples:\n",
        "    >>> is_strong_password(\"StrongPass1!\", datetime.now() - timedelta(days=30))\n",
        "    'This is a strong password.'\n",
        "\n",
        "    >>> is_strong_password(\"weakpass\", datetime.now() - timedelta(days=30))\n",
        "    'Password must be at least 12 characters long.'\n",
        "\n",
        "    >>> is_strong_password(\"StrongPass1!\", datetime.now() - timedelta(days=100))\n",
        "    'Password must be updated every 90 days.'\n",
        "    \"\"\"\n",
        "    if len(password) < 12:\n",
        "        return \"Password must be at least 12 characters long.\"\n",
        "\n",
        "    if not any(char.isupper() for char in password):\n",
        "        return \"Password must contain at least one uppercase letter.\"\n",
        "\n",
        "    if not any(char.islower() for char in password):\n",
        "        return \"Password must contain at least one lowercase letter.\"\n",
        "\n",
        "    if not any(char.isdigit() for char in password):\n",
        "        return \"Password must contain at least one digit.\"\n",
        "\n",
        "    if not any(char in \"!@#$%^&*()-_+=<>?/\" for char in password):\n",
        "        return \"Password must contain at least one special character.\"\n",
        "\n",
        "    if datetime.now() - last_updated > timedelta(days=90):\n",
        "        return \"Password must be updated every 90 days.\"\n",
        "\n",
        "    if password.lower() in common_passwords:\n",
        "        return \"Password is too common. Please choose a more unique password.\"\n",
        "\n",
        "    if any(password.count(char) > 3 for char in set(password)):\n",
        "        return \"Password contains too many repeated characters.\"\n",
        "\n",
        "    for i in range(len(password) - 2):\n",
        "        if ord(password[i]) == ord(password[i + 1]) - 1 == ord(password[i + 2]) - 2:\n",
        "            return \"Password contains consecutive characters.\"\n",
        "\n",
        "    return \"This is a strong password.\"\n",
        "\n",
        "if __name__ == \"__main__\":\n",
        "    import doctest\n",
        "    doctest.testmod()\n",
        "\n",
        "    # 測試函式\n",
        "    password = input(\"Please enter a password: \")\n",
        "    last_updated_str = input(\"Please enter the last updated date (YYYY-MM-DD): \")\n",
        "    last_updated = datetime.strptime(last_updated_str, \"%Y-%m-%d\")\n",
        "    result = is_strong_password(password, last_updated)\n",
        "    print(result)"
      ]
    }
  ]
}