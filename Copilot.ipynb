{
  "nbformat": 4,
  "nbformat_minor": 0,
  "metadata": {
    "colab": {
      "provenance": [],
      "authorship_tag": "ABX9TyO9/+CvOdxLnWGrX5ICRhiO",
      "include_colab_link": true
    },
    "kernelspec": {
      "name": "python3",
      "display_name": "Python 3"
    },
    "language_info": {
      "name": "python"
    }
  },
  "cells": [
    {
      "cell_type": "markdown",
      "metadata": {
        "id": "view-in-github",
        "colab_type": "text"
      },
      "source": [
        "<a href=\"https://colab.research.google.com/github/eric999j/PILTest/blob/master/Copilot.ipynb\" target=\"_parent\"><img src=\"https://colab.research.google.com/assets/colab-badge.svg\" alt=\"Open In Colab\"/></a>"
      ]
    },
    {
      "cell_type": "code",
      "execution_count": 1,
      "metadata": {
        "colab": {
          "base_uri": "https://localhost:8080/"
        },
        "id": "IbJfi3Sabz_J",
        "outputId": "72a18cc0-b7de-4b62-f4c3-2275581c1a91"
      },
      "outputs": [
        {
          "output_type": "stream",
          "name": "stdout",
          "text": [
            "Please enter your password: ··········\n",
            "Password is strong enough\n"
          ]
        }
      ],
      "source": [
        "import getpass\n",
        "import re\n",
        "\n",
        "def is_strong_password(password):\n",
        "    \"\"\"\n",
        "    Check if the password meets the strength requirements.\n",
        "    The password must be at least 12 characters long and include uppercase letters, lowercase letters, numbers, and special characters.\n",
        "\n",
        "    Args:\n",
        "        password (str): The password to check.\n",
        "\n",
        "    Returns:\n",
        "        bool: True if the password is strong, False otherwise.\n",
        "\n",
        "    Examples:\n",
        "        >>> is_strong_password('Aa1@strongpass')\n",
        "        True\n",
        "        >>> is_strong_password('weakpass')\n",
        "        False\n",
        "        >>> is_strong_password('Short1!')\n",
        "        False\n",
        "        >>> is_strong_password('NoSpecialChar123')\n",
        "        False\n",
        "    \"\"\"\n",
        "    # Check password length\n",
        "    if len(password) < 12:\n",
        "        return False\n",
        "    # Check for uppercase letters, lowercase letters, numbers, and special characters\n",
        "    if not re.search(r'[A-Z]', password):\n",
        "        return False\n",
        "    if not re.search(r'[a-z]', password):\n",
        "        return False\n",
        "    if not re.search(r'[0-9]', password):\n",
        "        return False\n",
        "    if not re.search(r'[@#$%^&+=]', password):\n",
        "        return False\n",
        "    return True\n",
        "\n",
        "def main():\n",
        "    # Use getpass module to hide user input\n",
        "    password = getpass.getpass('Please enter your password: ')\n",
        "\n",
        "    if is_strong_password(password):\n",
        "        print(\"Password is strong enough\")\n",
        "    else:\n",
        "        print(\"Password is not strong enough, please try again\")\n",
        "\n",
        "if __name__ == \"__main__\":\n",
        "    main()"
      ]
    }
  ]
}