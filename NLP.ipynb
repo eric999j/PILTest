{
  "nbformat": 4,
  "nbformat_minor": 0,
  "metadata": {
    "colab": {
      "name": "NLP.ipynb",
      "provenance": [],
      "authorship_tag": "ABX9TyNxq4+xqo6SRsD9rVi0DjvT",
      "include_colab_link": true
    },
    "kernelspec": {
      "name": "python3",
      "display_name": "Python 3"
    }
  },
  "cells": [
    {
      "cell_type": "markdown",
      "metadata": {
        "id": "view-in-github",
        "colab_type": "text"
      },
      "source": [
        "<a href=\"https://colab.research.google.com/github/eric999j/PILTest/blob/master/NLP.ipynb\" target=\"_parent\"><img src=\"https://colab.research.google.com/assets/colab-badge.svg\" alt=\"Open In Colab\"/></a>"
      ]
    },
    {
      "cell_type": "markdown",
      "metadata": {
        "id": "FUFd2FNV7vgI"
      },
      "source": [
        "https://clay-atlas.com/blog/2019/09/25/python-chinese-tutorial-tokenizer-thulac/"
      ]
    },
    {
      "cell_type": "markdown",
      "metadata": {
        "id": "vCRZi80M_G1z"
      },
      "source": [
        "# Hyphenation, Jieba\n",
        "\n"
      ]
    },
    {
      "cell_type": "code",
      "metadata": {
        "id": "lFjrRLtD_Fco"
      },
      "source": [
        "!pip3 install -q jieba"
      ],
      "execution_count": 4,
      "outputs": []
    },
    {
      "cell_type": "code",
      "metadata": {
        "id": "0NKaoLM6_GEK",
        "outputId": "450ecb0a-dc66-4de9-9cf8-a02257821fe6",
        "colab": {
          "base_uri": "https://localhost:8080/",
          "height": 68
        }
      },
      "source": [
        "import jieba\n",
        "\n",
        "text = '我來到北京清華大學, 韓國瑜'\n",
        "print('預設:', '|'.join(jieba.cut(text, cut_all=False, HMM=True)))\n",
        "print('全關閉:', '|'.join(jieba.cut(text, cut_all=False, HMM=False)))\n",
        "print('全關閉:', '|'.join(jieba.cut(text, cut_all=True, HMM=True)))"
      ],
      "execution_count": 6,
      "outputs": [
        {
          "output_type": "stream",
          "text": [
            "預設: 我來|到|北京|清華大學|,| |韓國瑜\n",
            "全關閉: 我|來|到|北京|清|華|大|學|,| |韓|國|瑜\n",
            "全關閉: 我|來|到|北京|清|華|大|學|,| ||韓|國|瑜\n"
          ],
          "name": "stdout"
        }
      ]
    },
    {
      "cell_type": "code",
      "metadata": {
        "id": "oyPHNEjC_5x9",
        "outputId": "a11a5c3e-928e-4617-bbc9-6b9734f9f5fb",
        "colab": {
          "base_uri": "https://localhost:8080/",
          "height": 102
        }
      },
      "source": [
        "import jieba\n",
        "import jieba.posseg as pseg\n",
        "\n",
        "text = '我來到北京清華大學'\n",
        "words = pseg.cut(text)\n",
        "for word, flag in words:\n",
        "    print(word, flag)"
      ],
      "execution_count": 7,
      "outputs": [
        {
          "output_type": "stream",
          "text": [
            "我 r\n",
            "來 v\n",
            "到 v\n",
            "北京 ns\n",
            "清華大學 nt\n"
          ],
          "name": "stdout"
        }
      ]
    },
    {
      "cell_type": "code",
      "metadata": {
        "id": "u9kv7iNQAmxF",
        "outputId": "e7aff54b-4ba8-4ac8-ceb6-81abf5428d4a",
        "colab": {
          "base_uri": "https://localhost:8080/",
          "height": 34
        }
      },
      "source": [
        "import jieba\n",
        "import jieba.analyse\n",
        "\n",
        "text = '總統蔡英文論文風波延燒後，最新民調今日出爐！據親藍民調公布結果，蔡英文支持度45%，遙遙領先韓國瑜的33%，兩人差距擴大到12個百分點。顯示論文門風波，並未重創小英聲望。'\n",
        "tags = jieba.analyse.extract_tags(text, topK=5)\n",
        "print(tags)"
      ],
      "execution_count": 8,
      "outputs": [
        {
          "output_type": "stream",
          "text": [
            "['英文', '總統', '論文風', '波延燒', '民調']\n"
          ],
          "name": "stdout"
        }
      ]
    },
    {
      "cell_type": "markdown",
      "metadata": {
        "id": "RHEWoUR98B1F"
      },
      "source": [
        "# Traditional Chinese, CKIP"
      ]
    },
    {
      "cell_type": "code",
      "metadata": {
        "id": "qgYiqj4k7qK1"
      },
      "source": [
        "!pip3 install -q ckiptagger\n",
        "!pip3 install -q tensorflow\n",
        "!pip3 install -q gdown"
      ],
      "execution_count": 1,
      "outputs": []
    },
    {
      "cell_type": "code",
      "metadata": {
        "id": "8251gTPR87p0",
        "outputId": "2ab59052-7ec0-4d6d-dc6d-3928d04fcc07",
        "colab": {
          "base_uri": "https://localhost:8080/",
          "height": 85
        }
      },
      "source": [
        "from ckiptagger import data_utils\n",
        "data_utils.download_data_gdown(\"./\") # gdown get model from doogle drive"
      ],
      "execution_count": 2,
      "outputs": [
        {
          "output_type": "stream",
          "text": [
            "Downloading...\n",
            "From: https://drive.google.com/uc?id=1efHsY16pxK0lBD2gYCgCTnv1Swstq771\n",
            "To: /content/data.zip\n",
            "1.88GB [00:23, 78.4MB/s]\n"
          ],
          "name": "stderr"
        }
      ]
    },
    {
      "cell_type": "code",
      "metadata": {
        "id": "Pwa19iAW9UMH",
        "outputId": "c6565c2c-a1a8-4e55-a1d9-48a29eb734c2",
        "colab": {
          "base_uri": "https://localhost:8080/",
          "height": 122
        }
      },
      "source": [
        "from ckiptagger import WS, POS, NER\n",
        "\n",
        "text = '傅達仁今將執行安樂死，卻突然爆出自己20年前遭緯來體育台封殺，他不懂自己哪裡得罪到電視台。'\n",
        "ws = WS(\"./data\") # Hyphenation\n",
        "pos = POS(\"./data\") # Part of speech\n",
        "ner = NER(\"./data\") # Name\n",
        "\n",
        "ws_results = ws([text])\n",
        "pos_results = pos(ws_results)\n",
        "ner_results = ner(ws_results, pos_results)\n",
        "\n",
        "print(ws_results)\n",
        "print(pos_results)\n",
        "for name in ner_results[0]:\n",
        "    print(name)"
      ],
      "execution_count": 3,
      "outputs": [
        {
          "output_type": "stream",
          "text": [
            "[['傅達仁', '今', '將', '執行', '安樂死', '，', '卻', '突然', '爆出', '自己', '20', '年', '前', '遭', '緯來', '體育台', '封殺', '，', '他', '不', '懂', '自己', '哪裡', '得罪到', '電視台', '。']]\n",
            "[['Nb', 'Nd', 'D', 'VC', 'Na', 'COMMACATEGORY', 'D', 'D', 'VJ', 'Nh', 'Neu', 'Nf', 'Ng', 'P', 'Nb', 'Na', 'VC', 'COMMACATEGORY', 'Nh', 'D', 'VK', 'Nh', 'Ncd', 'VJ', 'Nc', 'PERIODCATEGORY']]\n",
            "(23, 28, 'ORG', '緯來體育台')\n",
            "(0, 3, 'PERSON', '傅達仁')\n",
            "(18, 22, 'DATE', '20年前')\n"
          ],
          "name": "stdout"
        }
      ]
    }
  ]
}