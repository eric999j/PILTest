{
  "nbformat": 4,
  "nbformat_minor": 0,
  "metadata": {
    "colab": {
      "name": "Lottery3.ipynb",
      "provenance": [],
      "authorship_tag": "ABX9TyMU4wOMLyGMXdHxW+3kwyik",
      "include_colab_link": true
    },
    "kernelspec": {
      "name": "python3",
      "display_name": "Python 3"
    }
  },
  "cells": [
    {
      "cell_type": "markdown",
      "metadata": {
        "id": "view-in-github",
        "colab_type": "text"
      },
      "source": [
        "<a href=\"https://colab.research.google.com/github/eric999j/PILTest/blob/master/Lottery3.ipynb\" target=\"_parent\"><img src=\"https://colab.research.google.com/assets/colab-badge.svg\" alt=\"Open In Colab\"/></a>"
      ]
    },
    {
      "cell_type": "code",
      "metadata": {
        "id": "jfEAKXX9kmJn",
        "outputId": "86b9d368-b747-4f31-8001-ea5916dcfb7f",
        "colab": {
          "base_uri": "https://localhost:8080/",
          "height": 35
        }
      },
      "source": [
        "!pip install -q flask-ngrok\n",
        "!pip install -q flask==0.12.2"
      ],
      "execution_count": 1,
      "outputs": [
        {
          "output_type": "stream",
          "text": [
            "\u001b[?25l\r\u001b[K     |████                            | 10kB 17.6MB/s eta 0:00:01\r\u001b[K     |████████                        | 20kB 3.1MB/s eta 0:00:01\r\u001b[K     |███████████▉                    | 30kB 4.2MB/s eta 0:00:01\r\u001b[K     |███████████████▉                | 40kB 4.6MB/s eta 0:00:01\r\u001b[K     |███████████████████▊            | 51kB 3.6MB/s eta 0:00:01\r\u001b[K     |███████████████████████▊        | 61kB 4.0MB/s eta 0:00:01\r\u001b[K     |███████████████████████████▋    | 71kB 4.2MB/s eta 0:00:01\r\u001b[K     |███████████████████████████████▋| 81kB 4.7MB/s eta 0:00:01\r\u001b[K     |████████████████████████████████| 92kB 3.2MB/s \n",
            "\u001b[?25h"
          ],
          "name": "stdout"
        }
      ]
    },
    {
      "cell_type": "code",
      "metadata": {
        "id": "OXYPOYiynlH3",
        "outputId": "fa5ccc54-405b-4a3a-d80e-8c68b496c99c",
        "colab": {
          "base_uri": "https://localhost:8080/",
          "height": 143
        }
      },
      "source": [
        "from flask import Flask\n",
        "from flask_ngrok import run_with_ngrok\n",
        "\n",
        "import json\n",
        "import string\n",
        "import secrets\n",
        "import datetime\n",
        "import random\n",
        "from scipy.special import comb\n",
        "\n",
        "from flask import Response  \n",
        "from flask import request\n",
        "\n",
        "app = Flask(__name__)\n",
        "run_with_ngrok(app)\n",
        "\n",
        "@app.route(\"/\")\n",
        "def hello():\n",
        "    # getID\n",
        "    alphabet = string.ascii_letters + string.digits\n",
        "    token = \"id\".join(secrets.choice(alphabet) for i in range(8))\n",
        "    # getDate\n",
        "    date = datetime.datetime.now()\n",
        "    formatedDate = date.strftime(\"%m/%d/%Y\")\n",
        "    # getRandom\n",
        "    number=random.sample([0,1,2,3,4,5,6,7,8,9],3)\n",
        "    # getProb\n",
        "    prob=1/comb(10,3)\n",
        " \n",
        "    # json \n",
        "    lottery = {'id':token, 'date': formatedDate,'choseNumber':number,'probability':prob}\n",
        "\n",
        "    return json.dumps(lottery), 200, {'Content-Type': 'application/json'} \n",
        "\n",
        "if __name__ == '__main__':\n",
        "    app.run()"
      ],
      "execution_count": 3,
      "outputs": [
        {
          "output_type": "stream",
          "text": [
            " * Running on http://127.0.0.1:5000/ (Press CTRL+C to quit)\n"
          ],
          "name": "stderr"
        },
        {
          "output_type": "stream",
          "text": [
            " * Running on http://ec1ecdc57218.ngrok.io\n",
            " * Traffic stats available on http://127.0.0.1:4040\n"
          ],
          "name": "stdout"
        },
        {
          "output_type": "stream",
          "text": [
            "127.0.0.1 - - [30/Sep/2020 06:51:24] \"\u001b[37mGET / HTTP/1.1\u001b[0m\" 200 -\n",
            "127.0.0.1 - - [30/Sep/2020 06:51:24] \"\u001b[33mGET /favicon.ico HTTP/1.1\u001b[0m\" 404 -\n",
            "127.0.0.1 - - [30/Sep/2020 06:52:11] \"\u001b[37mGET / HTTP/1.1\u001b[0m\" 200 -\n",
            "127.0.0.1 - - [30/Sep/2020 06:52:28] \"\u001b[37mGET / HTTP/1.1\u001b[0m\" 200 -\n"
          ],
          "name": "stderr"
        }
      ]
    }
  ]
}