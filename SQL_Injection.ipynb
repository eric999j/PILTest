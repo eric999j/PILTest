{
  "nbformat": 4,
  "nbformat_minor": 0,
  "metadata": {
    "colab": {
      "provenance": [],
      "authorship_tag": "ABX9TyOrbk73T83juil8Y7ONEUiH",
      "include_colab_link": true
    },
    "kernelspec": {
      "name": "python3",
      "display_name": "Python 3"
    },
    "language_info": {
      "name": "python"
    }
  },
  "cells": [
    {
      "cell_type": "markdown",
      "metadata": {
        "id": "view-in-github",
        "colab_type": "text"
      },
      "source": [
        "<a href=\"https://colab.research.google.com/github/eric999j/PILTest/blob/master/SQL_Injection.ipynb\" target=\"_parent\"><img src=\"https://colab.research.google.com/assets/colab-badge.svg\" alt=\"Open In Colab\"/></a>"
      ]
    },
    {
      "cell_type": "code",
      "execution_count": 2,
      "metadata": {
        "id": "8o7LWCs1sjMi"
      },
      "outputs": [],
      "source": [
        "!curl --location 'https://postman-echo.com/post'"
      ]
    },
    {
      "cell_type": "code",
      "source": [
        "!curl --location 'https://postman-echo.com/post' --data-urlencode 'customerName='\\'' or '\\''1'\\''='\\''1'"
      ],
      "metadata": {
        "colab": {
          "base_uri": "https://localhost:8080/"
        },
        "id": "k2W8Eh2MtF-C",
        "outputId": "2938ee6c-4247-4ff1-a204-a1bf08fb19de"
      },
      "execution_count": 3,
      "outputs": [
        {
          "output_type": "stream",
          "name": "stdout",
          "text": [
            "{\n",
            "  \"args\": {},\n",
            "  \"data\": \"\",\n",
            "  \"files\": {},\n",
            "  \"form\": {\n",
            "    \"customerName\": \"' or '1'='1\"\n",
            "  },\n",
            "  \"headers\": {\n",
            "    \"host\": \"postman-echo.com\",\n",
            "    \"x-request-start\": \"t=1729239483.230\",\n",
            "    \"connection\": \"close\",\n",
            "    \"content-length\": \"34\",\n",
            "    \"x-forwarded-proto\": \"https\",\n",
            "    \"x-forwarded-port\": \"443\",\n",
            "    \"x-amzn-trace-id\": \"Root=1-671219bb-3433736d264f0e9c56d79360\",\n",
            "    \"user-agent\": \"curl/7.81.0\",\n",
            "    \"accept\": \"*/*\",\n",
            "    \"content-type\": \"application/x-www-form-urlencoded\"\n",
            "  },\n",
            "  \"json\": {\n",
            "    \"customerName\": \"' or '1'='1\"\n",
            "  },\n",
            "  \"url\": \"https://postman-echo.com/post\"\n",
            "}"
          ]
        }
      ]
    }
  ]
}